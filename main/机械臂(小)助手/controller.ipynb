{
 "cells": [
  {
   "cell_type": "code",
   "execution_count": 23,
   "metadata": {
    "collapsed": true,
    "ExecuteTime": {
     "start_time": "2024-06-24T14:17:28.233304Z",
     "end_time": "2024-06-24T14:17:28.236761Z"
    }
   },
   "outputs": [],
   "source": [
    "import torch\n",
    "import torch.nn as nn\n",
    "import torch.optim as optim\n",
    "import torch.nn.functional as F"
   ]
  },
  {
   "cell_type": "code",
   "execution_count": 24,
   "outputs": [],
   "source": [
    "class ArmNet(nn.Module):\n",
    "    def __init__(self):\n",
    "        super(ArmNet, self).__init__()\n",
    "        self.linear_sin = nn.Linear(3, 9)\n",
    "        self.linear_cos = nn.Linear(3, 9)\n",
    "        self.linear_out = nn.Linear(18,3)\n",
    "\n",
    "    def forward(self, x):\n",
    "        out1 = self.linear_sin(x)\n",
    "        out1 = torch.sin(out1)\n",
    "        out2 = self.linear_cos(x)\n",
    "        out2 = torch.cos(out2)\n",
    "        out = torch.cat((out1,out2), 0)\n",
    "        out = self.linear_out(out)\n",
    "        return out"
   ],
   "metadata": {
    "collapsed": false,
    "ExecuteTime": {
     "start_time": "2024-06-24T14:17:30.295275Z",
     "end_time": "2024-06-24T14:17:30.297874Z"
    }
   }
  },
  {
   "cell_type": "code",
   "execution_count": 25,
   "outputs": [],
   "source": [
    "x = torch.tensor([1.0, 2.0, 3.0])\n",
    "model = ArmNet()"
   ],
   "metadata": {
    "collapsed": false,
    "ExecuteTime": {
     "start_time": "2024-06-24T14:17:30.660805Z",
     "end_time": "2024-06-24T14:17:30.665338Z"
    }
   }
  },
  {
   "cell_type": "code",
   "execution_count": 26,
   "outputs": [],
   "source": [
    "y = model(x)"
   ],
   "metadata": {
    "collapsed": false,
    "ExecuteTime": {
     "start_time": "2024-06-24T14:17:31.066764Z",
     "end_time": "2024-06-24T14:17:31.073281Z"
    }
   }
  },
  {
   "cell_type": "code",
   "execution_count": null,
   "outputs": [],
   "source": [
    "criterion = nn.MSELoss()\n",
    "optimizer = optim.Adam(model.parameters(), lr=0.001)"
   ],
   "metadata": {
    "collapsed": false
   }
  }
 ],
 "metadata": {
  "kernelspec": {
   "display_name": "Python 3",
   "language": "python",
   "name": "python3"
  },
  "language_info": {
   "codemirror_mode": {
    "name": "ipython",
    "version": 2
   },
   "file_extension": ".py",
   "mimetype": "text/x-python",
   "name": "python",
   "nbconvert_exporter": "python",
   "pygments_lexer": "ipython2",
   "version": "2.7.6"
  }
 },
 "nbformat": 4,
 "nbformat_minor": 0
}
